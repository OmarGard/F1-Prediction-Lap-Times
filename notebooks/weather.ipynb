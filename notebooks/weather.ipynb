{
 "cells": [
  {
   "cell_type": "code",
   "execution_count": 1,
   "id": "c5b078d1",
   "metadata": {},
   "outputs": [
    {
     "name": "stdout",
     "output_type": "stream",
     "text": [
      "1751810400\n"
     ]
    }
   ],
   "source": [
    "from datetime import datetime\n",
    "import pytz\n",
    "\n",
    "# 1) Pick your local zone – here 'America/Mexico_City' for (now always UTC−6)\n",
    "tz = pytz.timezone(\"America/Mexico_City\")\n",
    "\n",
    "# 2) Build the local datetime of the race\n",
    "local_dt = tz.localize(datetime(2025, 7, 6, 8, 0, 0))\n",
    "\n",
    "# 3) Convert to UTC\n",
    "utc_dt = local_dt.astimezone(pytz.utc)\n",
    "\n",
    "# 4) Get the Unix timestamp (integer seconds)\n",
    "dt = int(utc_dt.timestamp())\n",
    "print(dt)  # → 1751810400 if UTC−6"
   ]
  },
  {
   "cell_type": "code",
   "execution_count": 3,
   "id": "94208921",
   "metadata": {},
   "outputs": [],
   "source": [
    "# Get wather data from OpenWeatherMap API\n",
    "import requests\n",
    "import os\n",
    "\n",
    "# Load API Environment Variable from .env file\n",
    "try:\n",
    "    from dotenv import load_dotenv\n",
    "    load_dotenv()\n",
    "except ImportError:\n",
    "    print(\"dotenv module not found. Please install it using 'pip install python-dotenv'.\")\n",
    "\n",
    "WEATHER_API_KEY = os.getenv('WEATHER_API_KEY')\n",
    "lat = 52.071111\n",
    "lon = -1.016111\n",
    "time = 1751810400  \n",
    "weather_url = f\"http://api.openweathermap.org/data/3.0/onecall/timemachine?lat={lat}&lon={lon}&dt={time}&appid={WEATHER_API_KEY}&units=metric\"\n",
    "response = requests.get(weather_url)\n",
    "weather_data = response.json()"
   ]
  },
  {
   "cell_type": "code",
   "execution_count": 7,
   "id": "b2b72304",
   "metadata": {},
   "outputs": [
    {
     "name": "stdout",
     "output_type": "stream",
     "text": [
      "{\n",
      "    \"data\": [\n",
      "        {\n",
      "            \"clouds\": 69,\n",
      "            \"dew_point\": 13.12,\n",
      "            \"dt\": 1751810400,\n",
      "            \"feels_like\": 19.63,\n",
      "            \"humidity\": 65,\n",
      "            \"pressure\": 1005,\n",
      "            \"rain\": {\n",
      "                \"3h\": 2.69\n",
      "            },\n",
      "            \"sunrise\": 1751773919,\n",
      "            \"sunset\": 1751833517,\n",
      "            \"temp\": 19.89,\n",
      "            \"weather\": [\n",
      "                {\n",
      "                    \"description\": \"light rain\",\n",
      "                    \"icon\": \"10d\",\n",
      "                    \"id\": 500,\n",
      "                    \"main\": \"Rain\"\n",
      "                }\n",
      "            ],\n",
      "            \"wind_deg\": 335,\n",
      "            \"wind_gust\": 7.07,\n",
      "            \"wind_speed\": 5.89\n",
      "        }\n",
      "    ],\n",
      "    \"lat\": 52.0711,\n",
      "    \"lon\": -1.0161,\n",
      "    \"timezone\": \"Europe/London\",\n",
      "    \"timezone_offset\": 3600\n",
      "}\n"
     ]
    }
   ],
   "source": [
    "# Display the weather data in a readable format\n",
    "import json\n",
    "print(json.dumps(weather_data, indent=4, sort_keys=True, ensure_ascii=False))"
   ]
  }
 ],
 "metadata": {
  "kernelspec": {
   "display_name": ".venv",
   "language": "python",
   "name": "python3"
  },
  "language_info": {
   "codemirror_mode": {
    "name": "ipython",
    "version": 3
   },
   "file_extension": ".py",
   "mimetype": "text/x-python",
   "name": "python",
   "nbconvert_exporter": "python",
   "pygments_lexer": "ipython3",
   "version": "3.12.5"
  }
 },
 "nbformat": 4,
 "nbformat_minor": 5
}
